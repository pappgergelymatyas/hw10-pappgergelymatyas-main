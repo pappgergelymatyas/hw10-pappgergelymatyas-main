{
 "cells": [
  {
   "cell_type": "code",
   "execution_count": 1,
   "metadata": {},
   "outputs": [],
   "source": [
    "import numpy as np\n",
    "import pandas as pd\n",
    "import os\n",
    "import openpyxl"
   ]
  },
  {
   "cell_type": "code",
   "execution_count": 2,
   "metadata": {},
   "outputs": [
    {
     "name": "stdout",
     "output_type": "stream",
     "text": [
      "c:\\Users\\Lenovo X390\\Desktop\\Rajk\\II\\II. Prog1\\hw10-pappgergelymatyas-main\\hw10-pappgergelymatyas-main\\homework\n",
      "C:\\Users\\Lenovo X390\\Desktop\\Rajk\\II\\II. Prog1\\hw9-pappgergelymatyas-main\n"
     ]
    }
   ],
   "source": [
    "#Working directory beállítása\n",
    "#mi van jelenleg beállítva --> ahonnan megnyitottuk a fájlt\n",
    "print(os.getcwd())\n",
    "#átállítás és ellenőrzés\n",
    "os.chdir(\"C:/Users/Lenovo X390/Desktop/Rajk/II/II. Prog1/hw9-pappgergelymatyas-main\")\n",
    "print(os.getcwd())\n",
    "\n",
    "#adatbázis: ESS 9. hullámával fogunk foglalkozni --> ismeri-e valaki\n",
    "ess_9 = pd.read_excel(\"ESS9HU.xlsx\", keep_default_na= True) #pd vel hivatkozunk a packagre, sokféle adatbázis típust be tud olvasni\n",
    "\n",
    "#opciók\n",
    "#pd.read"
   ]
  },
  {
   "cell_type": "code",
   "execution_count": null,
   "metadata": {},
   "outputs": [
    {
     "ename": "KeyError",
     "evalue": "False",
     "output_type": "error",
     "traceback": [
      "\u001b[1;31m---------------------------------------------------------------------------\u001b[0m",
      "\u001b[1;31mKeyError\u001b[0m                                  Traceback (most recent call last)",
      "File \u001b[1;32mc:\\Users\\Lenovo X390\\AppData\\Local\\Programs\\Python\\Python312\\Lib\\site-packages\\pandas\\core\\indexes\\base.py:3805\u001b[0m, in \u001b[0;36mIndex.get_loc\u001b[1;34m(self, key)\u001b[0m\n\u001b[0;32m   3804\u001b[0m \u001b[38;5;28;01mtry\u001b[39;00m:\n\u001b[1;32m-> 3805\u001b[0m     \u001b[38;5;28;01mreturn\u001b[39;00m \u001b[38;5;28;43mself\u001b[39;49m\u001b[38;5;241;43m.\u001b[39;49m\u001b[43m_engine\u001b[49m\u001b[38;5;241;43m.\u001b[39;49m\u001b[43mget_loc\u001b[49m\u001b[43m(\u001b[49m\u001b[43mcasted_key\u001b[49m\u001b[43m)\u001b[49m\n\u001b[0;32m   3806\u001b[0m \u001b[38;5;28;01mexcept\u001b[39;00m \u001b[38;5;167;01mKeyError\u001b[39;00m \u001b[38;5;28;01mas\u001b[39;00m err:\n",
      "File \u001b[1;32mindex.pyx:167\u001b[0m, in \u001b[0;36mpandas._libs.index.IndexEngine.get_loc\u001b[1;34m()\u001b[0m\n",
      "File \u001b[1;32mindex.pyx:196\u001b[0m, in \u001b[0;36mpandas._libs.index.IndexEngine.get_loc\u001b[1;34m()\u001b[0m\n",
      "File \u001b[1;32mpandas\\\\_libs\\\\hashtable_class_helper.pxi:7081\u001b[0m, in \u001b[0;36mpandas._libs.hashtable.PyObjectHashTable.get_item\u001b[1;34m()\u001b[0m\n",
      "File \u001b[1;32mpandas\\\\_libs\\\\hashtable_class_helper.pxi:7089\u001b[0m, in \u001b[0;36mpandas._libs.hashtable.PyObjectHashTable.get_item\u001b[1;34m()\u001b[0m\n",
      "\u001b[1;31mKeyError\u001b[0m: False",
      "\nThe above exception was the direct cause of the following exception:\n",
      "\u001b[1;31mKeyError\u001b[0m                                  Traceback (most recent call last)",
      "Cell \u001b[1;32mIn[4], line 1\u001b[0m\n\u001b[1;32m----> 1\u001b[0m nem_tudja_ppltrst \u001b[38;5;241m=\u001b[39m ess_9[\u001b[43mess_9\u001b[49m\u001b[43m[\u001b[49m\u001b[38;5;124;43m\"\u001b[39;49m\u001b[38;5;124;43mppltrst\u001b[39;49m\u001b[38;5;124;43m\"\u001b[39;49m\u001b[43m \u001b[49m\u001b[38;5;241;43m==\u001b[39;49m\u001b[43m \u001b[49m\u001b[38;5;241;43m7\u001b[39;49m\u001b[43m]\u001b[49m]\n\u001b[0;32m      2\u001b[0m nem_tudja_pplfair \u001b[38;5;241m=\u001b[39m ess_9[ess_9[\u001b[38;5;124m\"\u001b[39m\u001b[38;5;124mpplfair\u001b[39m\u001b[38;5;124m\"\u001b[39m \u001b[38;5;241m==\u001b[39m \u001b[38;5;241m7\u001b[39m]]\n\u001b[0;32m      3\u001b[0m nem_tudja_ppltrst \u001b[38;5;241m=\u001b[39m ess_9[ess_9[\u001b[38;5;124m\"\u001b[39m\u001b[38;5;124mppltrst\u001b[39m\u001b[38;5;124m\"\u001b[39m \u001b[38;5;241m==\u001b[39m \u001b[38;5;241m8\u001b[39m]]\n",
      "File \u001b[1;32mc:\\Users\\Lenovo X390\\AppData\\Local\\Programs\\Python\\Python312\\Lib\\site-packages\\pandas\\core\\frame.py:4102\u001b[0m, in \u001b[0;36mDataFrame.__getitem__\u001b[1;34m(self, key)\u001b[0m\n\u001b[0;32m   4100\u001b[0m \u001b[38;5;28;01mif\u001b[39;00m \u001b[38;5;28mself\u001b[39m\u001b[38;5;241m.\u001b[39mcolumns\u001b[38;5;241m.\u001b[39mnlevels \u001b[38;5;241m>\u001b[39m \u001b[38;5;241m1\u001b[39m:\n\u001b[0;32m   4101\u001b[0m     \u001b[38;5;28;01mreturn\u001b[39;00m \u001b[38;5;28mself\u001b[39m\u001b[38;5;241m.\u001b[39m_getitem_multilevel(key)\n\u001b[1;32m-> 4102\u001b[0m indexer \u001b[38;5;241m=\u001b[39m \u001b[38;5;28;43mself\u001b[39;49m\u001b[38;5;241;43m.\u001b[39;49m\u001b[43mcolumns\u001b[49m\u001b[38;5;241;43m.\u001b[39;49m\u001b[43mget_loc\u001b[49m\u001b[43m(\u001b[49m\u001b[43mkey\u001b[49m\u001b[43m)\u001b[49m\n\u001b[0;32m   4103\u001b[0m \u001b[38;5;28;01mif\u001b[39;00m is_integer(indexer):\n\u001b[0;32m   4104\u001b[0m     indexer \u001b[38;5;241m=\u001b[39m [indexer]\n",
      "File \u001b[1;32mc:\\Users\\Lenovo X390\\AppData\\Local\\Programs\\Python\\Python312\\Lib\\site-packages\\pandas\\core\\indexes\\base.py:3812\u001b[0m, in \u001b[0;36mIndex.get_loc\u001b[1;34m(self, key)\u001b[0m\n\u001b[0;32m   3807\u001b[0m     \u001b[38;5;28;01mif\u001b[39;00m \u001b[38;5;28misinstance\u001b[39m(casted_key, \u001b[38;5;28mslice\u001b[39m) \u001b[38;5;129;01mor\u001b[39;00m (\n\u001b[0;32m   3808\u001b[0m         \u001b[38;5;28misinstance\u001b[39m(casted_key, abc\u001b[38;5;241m.\u001b[39mIterable)\n\u001b[0;32m   3809\u001b[0m         \u001b[38;5;129;01mand\u001b[39;00m \u001b[38;5;28many\u001b[39m(\u001b[38;5;28misinstance\u001b[39m(x, \u001b[38;5;28mslice\u001b[39m) \u001b[38;5;28;01mfor\u001b[39;00m x \u001b[38;5;129;01min\u001b[39;00m casted_key)\n\u001b[0;32m   3810\u001b[0m     ):\n\u001b[0;32m   3811\u001b[0m         \u001b[38;5;28;01mraise\u001b[39;00m InvalidIndexError(key)\n\u001b[1;32m-> 3812\u001b[0m     \u001b[38;5;28;01mraise\u001b[39;00m \u001b[38;5;167;01mKeyError\u001b[39;00m(key) \u001b[38;5;28;01mfrom\u001b[39;00m \u001b[38;5;21;01merr\u001b[39;00m\n\u001b[0;32m   3813\u001b[0m \u001b[38;5;28;01mexcept\u001b[39;00m \u001b[38;5;167;01mTypeError\u001b[39;00m:\n\u001b[0;32m   3814\u001b[0m     \u001b[38;5;66;03m# If we have a listlike key, _check_indexing_error will raise\u001b[39;00m\n\u001b[0;32m   3815\u001b[0m     \u001b[38;5;66;03m#  InvalidIndexError. Otherwise we fall through and re-raise\u001b[39;00m\n\u001b[0;32m   3816\u001b[0m     \u001b[38;5;66;03m#  the TypeError.\u001b[39;00m\n\u001b[0;32m   3817\u001b[0m     \u001b[38;5;28mself\u001b[39m\u001b[38;5;241m.\u001b[39m_check_indexing_error(key)\n",
      "\u001b[1;31mKeyError\u001b[0m: False"
     ]
    }
   ],
   "source": [
    "nem_tudja_ppltrst = ess_9[ess_9[\"ppltrst\"] == 7]\n",
    "nem_tudja_pplfair = ess_9[ess_9[\"pplfair\" == 7]]\n",
    "nem_tudja_ppltrst = ess_9[ess_9[\"ppltrst\" == 8]]\n",
    "nem_tudja_pplfair = ess_9[ess_9[\"pplfair\" == 8]]\n",
    "\n",
    "optimisita_ppltrst = ess_9[ess_9[\"ppltrst\" >= 5]]\n",
    "optimisita_ppltrst = ess_9[ess_9[\"pplfair\" >= 5]]\n",
    "\n",
    "pesszimista_ppltrst = ess_9[ess_9[\"ppltrst\" < 5]]\n",
    "pesszimista_pplfair = ess_9[ess_9[\"ppltrst\" < 5]]\n",
    "\n"
   ]
  },
  {
   "cell_type": "code",
   "execution_count": 13,
   "metadata": {},
   "outputs": [],
   "source": [
    "nem_tudja_ppltrst = ess_9[(ess_9[\"ppltrst\"] != 77) & (ess_9[\"ppltrst\"] != 88)]\n",
    "nem_tudja_pplfair = nem_tudja_ppltrst[(nem_tudja_ppltrst[\"pplfair\"] != 77) & (nem_tudja_ppltrst[\"pplfair\"] != 88)]\n"
   ]
  },
  {
   "cell_type": "code",
   "execution_count": null,
   "metadata": {},
   "outputs": [
    {
     "name": "stdout",
     "output_type": "stream",
     "text": [
      "pplfair\n",
      "5     307\n",
      "6     267\n",
      "7     241\n",
      "4     183\n",
      "3     180\n",
      "8     139\n",
      "2     131\n",
      "0      80\n",
      "1      65\n",
      "9      35\n",
      "10     21\n",
      "Name: count, dtype: int64\n"
     ]
    }
   ],
   "source": [
    "nem_tudja_pplfair_kivancsisag = nem_tudja_pplfair[\"pplfair\"].value_counts()\n",
    "print(nem_tudja_pplfair_kivancsisag)"
   ]
  },
  {
   "cell_type": "code",
   "execution_count": 17,
   "metadata": {},
   "outputs": [
    {
     "name": "stderr",
     "output_type": "stream",
     "text": [
      "C:\\Users\\Lenovo X390\\AppData\\Local\\Temp\\ipykernel_39628\\1751545185.py:1: SettingWithCopyWarning: \n",
      "A value is trying to be set on a copy of a slice from a DataFrame.\n",
      "Try using .loc[row_indexer,col_indexer] = value instead\n",
      "\n",
      "See the caveats in the documentation: https://pandas.pydata.org/pandas-docs/stable/user_guide/indexing.html#returning-a-view-versus-a-copy\n",
      "  nem_tudja_pplfair[\"pesszimista_ppltrst\"] = nem_tudja_pplfair[\"ppltrst\"].apply(lambda x: 0 if x <= 5 else 1)\n",
      "C:\\Users\\Lenovo X390\\AppData\\Local\\Temp\\ipykernel_39628\\1751545185.py:2: SettingWithCopyWarning: \n",
      "A value is trying to be set on a copy of a slice from a DataFrame.\n",
      "Try using .loc[row_indexer,col_indexer] = value instead\n",
      "\n",
      "See the caveats in the documentation: https://pandas.pydata.org/pandas-docs/stable/user_guide/indexing.html#returning-a-view-versus-a-copy\n",
      "  nem_tudja_pplfair[\"pesszimista_pplfair\"] = nem_tudja_pplfair[\"pplfair\"].apply(lambda x: 0 if x <= 5 else 1)\n"
     ]
    }
   ],
   "source": [
    "nem_tudja_pplfair[\"pesszimista_ppltrst\"] = nem_tudja_pplfair[\"ppltrst\"].apply(lambda x: 0 if x <= 5 else 1)\n",
    "nem_tudja_pplfair[\"pesszimista_pplfair\"] = nem_tudja_pplfair[\"pplfair\"].apply(lambda x: 0 if x <= 5 else 1)\n"
   ]
  },
  {
   "cell_type": "code",
   "execution_count": 20,
   "metadata": {},
   "outputs": [
    {
     "name": "stderr",
     "output_type": "stream",
     "text": [
      "C:\\Users\\Lenovo X390\\AppData\\Local\\Temp\\ipykernel_39628\\1834480805.py:1: SettingWithCopyWarning: \n",
      "A value is trying to be set on a copy of a slice from a DataFrame.\n",
      "Try using .loc[row_indexer,col_indexer] = value instead\n",
      "\n",
      "See the caveats in the documentation: https://pandas.pydata.org/pandas-docs/stable/user_guide/indexing.html#returning-a-view-versus-a-copy\n",
      "  nem_tudja_pplfair[\"tipologia\"] = nem_tudja_pplfair[\"pesszimista_ppltrst\"].map(str) + nem_tudja_pplfair[\"pesszimista_pplfair\"].map(str)\n"
     ]
    },
    {
     "data": {
      "text/plain": [
       "tipologia\n",
       "00    753\n",
       "11    488\n",
       "01    215\n",
       "10    193\n",
       "Name: count, dtype: int64"
      ]
     },
     "execution_count": 20,
     "metadata": {},
     "output_type": "execute_result"
    }
   ],
   "source": [
    "nem_tudja_pplfair[\"tipologia\"] = nem_tudja_pplfair[\"pesszimista_ppltrst\"].map(str) + nem_tudja_pplfair[\"pesszimista_pplfair\"].map(str)\n",
    "\n",
    "nem_tudja_pplfair[\"tipologia\"].value_counts()"
   ]
  },
  {
   "cell_type": "code",
   "execution_count": 22,
   "metadata": {},
   "outputs": [
    {
     "data": {
      "text/html": [
       "<div>\n",
       "<style scoped>\n",
       "    .dataframe tbody tr th:only-of-type {\n",
       "        vertical-align: middle;\n",
       "    }\n",
       "\n",
       "    .dataframe tbody tr th {\n",
       "        vertical-align: top;\n",
       "    }\n",
       "\n",
       "    .dataframe thead th {\n",
       "        text-align: right;\n",
       "    }\n",
       "</style>\n",
       "<table border=\"1\" class=\"dataframe\">\n",
       "  <thead>\n",
       "    <tr style=\"text-align: right;\">\n",
       "      <th></th>\n",
       "      <th>agea</th>\n",
       "    </tr>\n",
       "    <tr>\n",
       "      <th>tipologia</th>\n",
       "      <th></th>\n",
       "    </tr>\n",
       "  </thead>\n",
       "  <tbody>\n",
       "    <tr>\n",
       "      <th>00</th>\n",
       "      <td>52.936255</td>\n",
       "    </tr>\n",
       "    <tr>\n",
       "      <th>01</th>\n",
       "      <td>52.706977</td>\n",
       "    </tr>\n",
       "    <tr>\n",
       "      <th>10</th>\n",
       "      <td>46.740933</td>\n",
       "    </tr>\n",
       "    <tr>\n",
       "      <th>11</th>\n",
       "      <td>48.950820</td>\n",
       "    </tr>\n",
       "  </tbody>\n",
       "</table>\n",
       "</div>"
      ],
      "text/plain": [
       "                agea\n",
       "tipologia           \n",
       "00         52.936255\n",
       "01         52.706977\n",
       "10         46.740933\n",
       "11         48.950820"
      ]
     },
     "execution_count": 22,
     "metadata": {},
     "output_type": "execute_result"
    }
   ],
   "source": [
    "nem_tudja_pplfair[[\"agea\", \"tipologia\"]].groupby(\"tipologia\").mean()\n"
   ]
  },
  {
   "cell_type": "code",
   "execution_count": 27,
   "metadata": {},
   "outputs": [
    {
     "data": {
      "text/html": [
       "<div>\n",
       "<style scoped>\n",
       "    .dataframe tbody tr th:only-of-type {\n",
       "        vertical-align: middle;\n",
       "    }\n",
       "\n",
       "    .dataframe tbody tr th {\n",
       "        vertical-align: top;\n",
       "    }\n",
       "\n",
       "    .dataframe thead th {\n",
       "        text-align: right;\n",
       "    }\n",
       "</style>\n",
       "<table border=\"1\" class=\"dataframe\">\n",
       "  <thead>\n",
       "    <tr style=\"text-align: right;\">\n",
       "      <th>tipologia</th>\n",
       "      <th>00</th>\n",
       "      <th>01</th>\n",
       "      <th>10</th>\n",
       "      <th>11</th>\n",
       "    </tr>\n",
       "    <tr>\n",
       "      <th>gndr</th>\n",
       "      <th></th>\n",
       "      <th></th>\n",
       "      <th></th>\n",
       "      <th></th>\n",
       "    </tr>\n",
       "  </thead>\n",
       "  <tbody>\n",
       "    <tr>\n",
       "      <th>1</th>\n",
       "      <td>3.558442</td>\n",
       "      <td>3.716049</td>\n",
       "      <td>4.986486</td>\n",
       "      <td>5.531818</td>\n",
       "    </tr>\n",
       "    <tr>\n",
       "      <th>2</th>\n",
       "      <td>3.958128</td>\n",
       "      <td>4.496063</td>\n",
       "      <td>4.400000</td>\n",
       "      <td>5.572581</td>\n",
       "    </tr>\n",
       "  </tbody>\n",
       "</table>\n",
       "</div>"
      ],
      "text/plain": [
       "tipologia        00        01        10        11\n",
       "gndr                                             \n",
       "1          3.558442  3.716049  4.986486  5.531818\n",
       "2          3.958128  4.496063  4.400000  5.572581"
      ]
     },
     "execution_count": 27,
     "metadata": {},
     "output_type": "execute_result"
    }
   ],
   "source": [
    "mAsTeR_TaBlA = nem_tudja_pplfair[(nem_tudja_pplfair[\"stfdem\"] != 77) & (nem_tudja_pplfair[\"stfdem\"] != 88)]\n",
    "\n",
    "mAsTeR_TaBlA.pivot_table(\n",
    "    values = \"stfdem\", index = \"gndr\", columns = \"tipologia\",\n",
    "    aggfunc = \"mean\",\n",
    ")"
   ]
  },
  {
   "cell_type": "code",
   "execution_count": 33,
   "metadata": {},
   "outputs": [
    {
     "name": "stdout",
     "output_type": "stream",
     "text": [
      "6.777242624924744\n",
      "6.643546441495778\n"
     ]
    },
    {
     "data": {
      "text/plain": [
       "<BarContainer object of 2 artists>"
      ]
     },
     "execution_count": 33,
     "metadata": {},
     "output_type": "execute_result"
    },
    {
     "data": {
      "image/png": "[encoded data removed]",
      "text/plain": [
       "<Figure size 640x480 with 1 Axes>"
      ]
     },
     "metadata": {},
     "output_type": "display_data"
    }
   ],
   "source": [
    "import matplotlib.pyplot as plt\n",
    "import numpy as np\n",
    "\n",
    "happy_atlag = ess_9[ess_9[\"happy\"] <= 10] \n",
    "\n",
    "print(ess_9[\"happy\"].mean())\n",
    "print(happy_atlag[\"happy\"].mean())\n",
    "\n",
    "\n",
    "happy_max_ferfi = happy_atlag[happy_atlag[\"gndr\"] == 1] \n",
    "ferfi_max = happy_max_ferfi[\"happy\"].mean()\n",
    "\n",
    "happy_max_no = happy_atlag[happy_atlag[\"gndr\"] == 0] \n",
    "no_max = happy_max_no[\"happy\"].mean()\n",
    "\n",
    "\n",
    "nemek = ['Férfiak', 'Nők']\n",
    "boldogság_index = [6.8, 6.4]\n",
    "\n",
    "plt.bar(nemek, boldogság_index)\n",
    "# plt.title('Burjánzó endorfin')\n",
    "# plt.xlabel('Nemek')\n",
    "# plt.ylabel('Átlag pontszám')\n",
    "# plt.show()"
   ]
  },
  {
   "cell_type": "code",
   "execution_count": 34,
   "metadata": {},
   "outputs": [],
   "source": [
    "szukites = ess_9[[\"agea\", \"eduyrs\", \"ppltrst\", \"pplfair\", \"cntry\"]]\n"
   ]
  }
 ],
 "metadata": {
  "kernelspec": {
   "display_name": "Python 3",
   "language": "python",
   "name": "python3"
  },
  "language_info": {
   "codemirror_mode": {
    "name": "ipython",
    "version": 3
   },
   "file_extension": ".py",
   "mimetype": "text/x-python",
   "name": "python",
   "nbconvert_exporter": "python",
   "pygments_lexer": "ipython3",
   "version": "3.12.4"
  }
 },
 "nbformat": 4,
 "nbformat_minor": 2
}
